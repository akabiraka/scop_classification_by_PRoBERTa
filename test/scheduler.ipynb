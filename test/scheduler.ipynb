{
 "cells": [
  {
   "cell_type": "code",
   "execution_count": 67,
   "metadata": {},
   "outputs": [],
   "source": [
    "import torch\n",
    "import matplotlib.pyplot as plt"
   ]
  },
  {
   "cell_type": "code",
   "execution_count": 70,
   "metadata": {},
   "outputs": [
    {
     "data": {
      "image/png": "[encoded data removed]",
      "text/plain": [
       "<Figure size 432x288 with 1 Axes>"
      ]
     },
     "metadata": {
      "needs_background": "light"
     },
     "output_type": "display_data"
    }
   ],
   "source": [
    "model = torch.nn.Linear(2, 1)\n",
    "optimizer = torch.optim.SGD(model.parameters(), lr=.001)\n",
    "factor = .95\n",
    "epochs = 100\n",
    "lambda1 = lambda epoch: factor ** epoch\n",
    "scheduler = torch.optim.lr_scheduler.LambdaLR(optimizer, lr_lambda=lambda1)\n",
    "\n",
    "lrs = []\n",
    "\n",
    "for i in range(epochs):\n",
    "    optimizer.step()\n",
    "    lrs.append(optimizer.param_groups[0][\"lr\"])\n",
    "    # print(\"Factor = \", factor ** i,\" , Learning Rate = \", optimizer.param_groups[0][\"lr\"])\n",
    "    scheduler.step()\n",
    "\n",
    "plt.plot(range(epochs),lrs)\n",
    "plt.show()"
   ]
  },
  {
   "cell_type": "code",
   "execution_count": null,
   "metadata": {},
   "outputs": [],
   "source": [
    "model = torch.nn.Linear(2, 1)\n",
    "optimizer = torch.optim.SGD(model.parameters(), lr=100)\n",
    "lmbda = lambda epoch: 0.998 ** epoch\n",
    "scheduler = torch.optim.lr_scheduler.MultiplicativeLR(optimizer, lr_lambda=lmbda)\n",
    "lrs = []\n",
    "\n",
    "for i in range(100):\n",
    "    optimizer.step()\n",
    "    lrs.append(optimizer.param_groups[0][\"lr\"])\n",
    "    # print(f\"{i}, Learning Rate: {optimizer.param_groups[0]['lr']}\")\n",
    "    scheduler.step()\n",
    "\n",
    "plt.plot(range(100),lrs)"
   ]
  },
  {
   "cell_type": "code",
   "execution_count": 66,
   "metadata": {},
   "outputs": [
    {
     "data": {
      "text/plain": [
       "[<matplotlib.lines.Line2D at 0x7f1d24041220>]"
      ]
     },
     "execution_count": 66,
     "metadata": {},
     "output_type": "execute_result"
    },
    {
     "data": {
      "image/png": "[encoded data removed]",
      "text/plain": [
       "<Figure size 432x288 with 1 Axes>"
      ]
     },
     "metadata": {
      "needs_background": "light"
     },
     "output_type": "display_data"
    }
   ],
   "source": [
    "from fairseq.optim.lr_scheduler.polynomial_decay_schedule import PolynomialDecaySchedule\n",
    "from fairseq.optim.adam import FairseqAdam\n",
    "model = torch.nn.Linear(2, 1)\n",
    "\n",
    "class Object(object):\n",
    "    pass\n",
    "\n",
    "optim_args = Object()\n",
    "optim_args.lr = [0.001]\n",
    "optim_args.adam_betas = \"(0.9, 0.98)\"\n",
    "optim_args.adam_eps = 1e-06\n",
    "optim_args.weight_decay = 0.01\n",
    "\n",
    "scheduler_args = Object()\n",
    "scheduler_args.lr = 0.0025, \n",
    "scheduler_args.warmup_updates = 40\n",
    "scheduler_args.total_num_update = 100\n",
    "scheduler_args.end_learning_rate = 0.0\n",
    "scheduler_args.power = .1\n",
    "\n",
    "\n",
    "optimizer = FairseqAdam(optim_args, params=model.parameters())\n",
    "scheduler = PolynomialDecaySchedule(scheduler_args, optimizer=optimizer)\n",
    "\n",
    "lrs = []\n",
    "for i in range(100):\n",
    "    optimizer.step()\n",
    "    lrs.append(optimizer.param_groups[0][\"lr\"])\n",
    "    # print(f\"{i}, Learning Rate: {optimizer.param_groups[0]['lr']}\")\n",
    "    scheduler.step(i)\n",
    "\n",
    "plt.plot(range(100),lrs)"
   ]
  },
  {
   "cell_type": "code",
   "execution_count": 5,
   "metadata": {},
   "outputs": [
    {
     "name": "stdout",
     "output_type": "stream",
     "text": [
      "tensor([0, 0, 3, 0, 3, 3, 0, 3, 3, 2, 2, 2, 3, 3, 0, 0, 2, 4, 4, 0])\n",
      "[0 2 3 4]\n",
      "tensor([0.7143, 1.2500, 0.7143, 2.5000])\n"
     ]
    }
   ],
   "source": [
    "import torch\n",
    "import numpy as np\n",
    "from sklearn.utils.class_weight import compute_class_weight\n",
    "\n",
    "x = torch.randn(20, 5) #The input is expected to contain raw, unnormalized scores for each class.\n",
    "\n",
    "y = torch.randint(0, 5, (20,))\n",
    "print(y)\n",
    "\n",
    "labels = np.unique(y)\n",
    "print(labels)\n",
    "class_weights = compute_class_weight(\"balanced\", classes=labels, y=y.numpy())\n",
    "class_weights = torch.tensor(class_weights, dtype=torch.float)\n",
    "print(class_weights)"
   ]
  },
  {
   "cell_type": "code",
   "execution_count": 1,
   "metadata": {},
   "outputs": [],
   "source": [
    "import torch\n",
    "\n",
    "class NoamOpt:\n",
    "    \"Optim wrapper that implements rate.\"\n",
    "    def __init__(self, model_size, factor, warmup, optimizer):\n",
    "        self.optimizer = optimizer\n",
    "        self._step = 0\n",
    "        self.warmup = warmup\n",
    "        self.factor = factor\n",
    "        self.model_size = model_size\n",
    "        self._rate = 0\n",
    "        \n",
    "    def step(self):\n",
    "        \"Update parameters and rate\"\n",
    "        self._step += 1\n",
    "        rate = self.rate()\n",
    "        for p in self.optimizer.param_groups:\n",
    "            p['lr'] = rate\n",
    "        self._rate = rate\n",
    "        self.optimizer.step()\n",
    "        \n",
    "    def rate(self, step = None):\n",
    "        \"Implement `lrate` above\"\n",
    "        if step is None:\n",
    "            step = self._step\n",
    "        return self.factor * \\\n",
    "            (self.model_size ** (-0.5) *\n",
    "            min(step ** (-0.5), step * self.warmup ** (-1.5)))\n",
    "        \n",
    "def get_std_opt(model):\n",
    "    return NoamOpt(model.src_embed[0].d_model, 2, 4000,\n",
    "            torch.optim.Adam(model.parameters(), lr=0, betas=(0.9, 0.98), eps=1e-9))\n"
   ]
  },
  {
   "cell_type": "code",
   "execution_count": 14,
   "metadata": {},
   "outputs": [
    {
     "data": {
      "text/plain": [
       "<matplotlib.legend.Legend at 0x7fe33368cd30>"
      ]
     },
     "execution_count": 14,
     "metadata": {},
     "output_type": "execute_result"
    },
    {
     "data": {
      "image/png": "[encoded data removed]",
      "text/plain": [
       "<Figure size 432x288 with 1 Axes>"
      ]
     },
     "metadata": {
      "needs_background": "light"
     },
     "output_type": "display_data"
    }
   ],
   "source": [
    "import matplotlib.pyplot as plt\n",
    "import numpy as np\n",
    "# Three settings of the lrate hyperparameters.\n",
    "opts = [NoamOpt(768, 1, 200, None), \n",
    "        NoamOpt(512, 1, 200, None),\n",
    "        NoamOpt(256, 1, 200, None)]\n",
    "plt.plot(np.arange(1, 1000), [[opt.rate(i) for opt in opts] for i in range(1, 1000)])\n",
    "plt.legend([\"512:4000\", \"512:8000\", \"256:4000\"])"
   ]
  },
  {
   "cell_type": "code",
   "execution_count": 24,
   "metadata": {},
   "outputs": [
    {
     "name": "stdout",
     "output_type": "stream",
     "text": [
      "torch.Size([2, 5, 3])\n",
      "torch.Size([2, 5, 1])\n",
      "torch.Size([2, 5, 1])\n",
      "torch.Size([2, 3])\n",
      "torch.Size([2, 5])\n"
     ]
    }
   ],
   "source": [
    "import torch\n",
    "linear = torch.nn.Linear(3, 1)\n",
    "classifier = torch.nn.Linear(3, 5)\n",
    "\n",
    "last_hidden_state = torch.rand([2, 5, 3])\n",
    "activation = torch.tanh(last_hidden_state) \n",
    "print(activation.shape)\n",
    "\n",
    "score = linear(activation)                  # Shape is [batch_size, seq_len, 1]   \n",
    "print(score.shape)     \n",
    "weights = torch.softmax(score, dim=1)\n",
    "print(weights.shape)\n",
    "x = torch.sum(weights * last_hidden_state, dim=1)\n",
    "print(x.shape)\n",
    "\n",
    "out = classifier(x)\n",
    "print(out.shape)"
   ]
  },
  {
   "cell_type": "code",
   "execution_count": 1,
   "metadata": {},
   "outputs": [
    {
     "data": {
      "text/plain": [
       "11"
      ]
     },
     "execution_count": 1,
     "metadata": {},
     "output_type": "execute_result"
    }
   ],
   "source": [
    "def fun1(x, fun):\n",
    "    return fun(x)+1\n",
    "\n",
    "def fun2(x):\n",
    "    return x*2\n",
    "    \n",
    "fun1(5, lambda x: fun2(x))\n"
   ]
  }
 ],
 "metadata": {
  "interpreter": {
   "hash": "0079f5f4bd995c0bc786f627bc620acfe4812425323638d3d7b00d0515217764"
  },
  "kernelspec": {
   "display_name": "Python 3.8.10 ('venv_3xx')",
   "language": "python",
   "name": "python3"
  },
  "language_info": {
   "codemirror_mode": {
    "name": "ipython",
    "version": 3
   },
   "file_extension": ".py",
   "mimetype": "text/x-python",
   "name": "python",
   "nbconvert_exporter": "python",
   "pygments_lexer": "ipython3",
   "version": "3.8.10"
  },
  "orig_nbformat": 4
 },
 "nbformat": 4,
 "nbformat_minor": 2
}
